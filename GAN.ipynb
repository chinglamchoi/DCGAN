{
 "cells": [
  {
   "cell_type": "markdown",
   "metadata": {},
   "source": [
    "### 1. Import Dependencies"
   ]
  },
  {
   "cell_type": "code",
   "execution_count": 1,
   "metadata": {},
   "outputs": [],
   "source": [
    "#Modules\n",
    "import tensorflow as tf\n",
    "import numpy as np\n",
    "import matplotlib.pyplot as plt\n",
    "import matplotlib.gridspec as gdp\n",
    "import os\n",
    "from tensorflow.examples.tutorials.mnist import input_data\n",
    "\n",
    "np.random.seed(3)\n",
    "#np.random.seed(0)"
   ]
  },
  {
   "cell_type": "markdown",
   "metadata": {},
   "source": [
    "### 2. Define GAN Functions"
   ]
  },
  {
   "cell_type": "code",
   "execution_count": null,
   "metadata": {},
   "outputs": [],
   "source": [
    "def generator(z):\n",
    "    G_h1 = tf.nn.relu(tf.matmul(z, G_W1) + G_b1)\n",
    "    G_log_prob = tf.matmul(G_h1, G_W2) + G_b2\n",
    "    G_prob = tf.nn.sigmoid(G_log_prob)\n",
    "    return G_prob\n",
    "\n",
    "def discriminator(x):\n",
    "    D_h1 = tf.nn.relu(tf.matmul(x, D_W1) + D_b1)\n",
    "    D_logit = tf.matmul(D_h1, D_W2) + D_b2\n",
    "    D_prob = tf.nn.sigmoid(D_logit)\n",
    "    return D_prob, D_logit\n",
    "\n",
    "def xavier_init(size):\n",
    "    input_dim = size[0]\n",
    "    xavier_variance = 1. / tf.sqrt(input_dim/2.)\n",
    "    return tf.random_normal(shape=size, stddev=xavier_variance)\n",
    "\n",
    "def plot(samples):\n",
    "    fig = plt.figure(figsize=(4, 4))\n",
    "    gs = gdp.GridSpec(4, 4)\n",
    "    gs.update(wspace=0.05, hspace=0.05)\n",
    "\n",
    "    for i, sample in enumerate(samples):\n",
    "        ax = plt.subplot(gs[i])\n",
    "        plt.axis(\"off\")\n",
    "        ax.set_xticklabels([])\n",
    "        ax.set_yticklabels([])\n",
    "        ax.set_aspect(\"equal\")\n",
    "        plt.imshow(sample.reshape(28, 28), cmap=\"Greys_r\")\n",
    "    return fig\n",
    "\n",
    "def sample_Z(m, n):\n",
    "    a = np.random.uniform(-1.,1., size=[m,n])\n",
    "    print(a)\n",
    "    return a"
   ]
  },
  {
   "cell_type": "markdown",
   "metadata": {},
   "source": [
    "### 3. Init Generator"
   ]
  },
  {
   "cell_type": "code",
   "execution_count": null,
   "metadata": {},
   "outputs": [],
   "source": [
    "# Function call\n",
    "Z = tf.placeholder(tf.float32, shape = [None, 100], name = \"Z\")\n",
    "X = tf.placeholder(tf.float32, shape = [None, 784], name = \"X\")\n",
    "\n",
    "# Weight and bias matrices for generator\n",
    "G_W1 = tf.Variable(xavier_init([100, 128]), name = \"G_W1\") \n",
    "G_b1 = tf.Variable(tf.zeros(shape =[128]), name = \"G_b1\")\n",
    "G_W2 = tf.Variable(xavier_init([128, 784]), name = \"G_W2\")\n",
    "G_b2 = tf.Variable(tf.zeros(shape =[784]), name = \"G_b2\")\n",
    "theta_G = [G_W1, G_W2, G_b1, G_b2]\n",
    "\n",
    "# Weight and bias matrices for discriminator\n",
    "D_W1 = tf.Variable(xavier_init([784, 128]), name = \"D_W1\")\n",
    "D_b1 = tf.Variable(tf.zeros(shape =[128]), name = \"D_b1\")\n",
    "D_W2 = tf.Variable(xavier_init([128, 1]), name = \"D_W2\")\n",
    "D_b2 = tf.Variable(tf.zeros(shape =[1]), name = \"D_b2\")\n",
    "theta_D = [D_W1, D_W2, D_b1, D_b2]\n",
    "\n",
    "G_sample = generator(Z)\n",
    "\n",
    "D_real, D_logit_real = discriminator(X)\n",
    "D_fake, D_logit_fake = discriminator(G_sample)\n",
    "\n",
    "D_loss = -tf.reduce_mean(tf.log(D_real) + tf.log1p(-D_fake)) #Replace with tf.log1p(-D_fake): Tends to be more numerically stable\n",
    "G_loss = -tf.reduce_mean(tf.log(D_fake))\n",
    "\n",
    "D_solver = tf.train.AdamOptimizer().minimize(D_loss, var_list=theta_D)\n",
    "G_solver = tf.train.AdamOptimizer().minimize(G_loss, var_list=theta_G)"
   ]
  },
  {
   "cell_type": "markdown",
   "metadata": {},
   "source": [
    "### 4. Test on MNIST"
   ]
  },
  {
   "cell_type": "code",
   "execution_count": null,
   "metadata": {},
   "outputs": [],
   "source": [
    "batch_size = 128\n",
    "Z_dim = 100\n",
    "\n",
    "sess = tf.Session()\n",
    "sess.run(tf.global_variables_initializer())\n",
    "\n",
    "mnist = input_data.read_data_sets(\"MNIST/\", one_hot = True)\n",
    "\n",
    "if not os.path.exists(\"seed3/\"):\n",
    "    os.makedirs(\"seed3/\")\n",
    "\n",
    "i = 0\n",
    "step = 1000000\n",
    "\n",
    "for itr in range(step):\n",
    "    if itr % 1000 == 0:\n",
    "        samples = sess.run(G_sample, feed_dict={Z: sample_Z(16, Z_dim)})\n",
    "\n",
    "        fig = plot(samples)\n",
    "        plt.savefig(\"seed3/{}.png\".format(str(i).zfill(3)), bbox_inches=\"tight\")\n",
    "        i += 1\n",
    "        plt.close(fig)\n",
    "\n",
    "    X_mb, _ = mnist.train.next_batch(batch_size)\n",
    "\n",
    "    _, D_loss_curr = sess.run([D_solver, D_loss], feed_dict ={X: X_mb, Z: sample_Z(batch_size, Z_dim)})\n",
    "    _, G_loss_curr = sess.run([G_solver, G_loss], feed_dict ={Z: sample_Z(batch_size, Z_dim)})\n",
    "\n",
    "    if itr % 1000 == 0:\n",
    "        print(\"Iter: {}\".format(itr))\n",
    "        print(\"D_loss: {:.4}\".format(D_loss_curr))\n",
    "        print(\"G_loss: {:.4}\".format(G_loss_curr))\n",
    "        print()"
   ]
  },
  {
   "cell_type": "code",
   "execution_count": null,
   "metadata": {
    "collapsed": true
   },
   "outputs": [],
   "source": [
    "\"\"\"\n",
    "Potential problems:\n",
    "\n",
    "1. G_loss and D_loss error messaged: \"Masked values being converted to NAN\"\n",
    "    #1: Try fix in line 67 to make more numerically stable\n",
    "    #2: Try with another random seed\n",
    "    #3: May be experiencing \"excessive mode dropping\"\n",
    "        - Meaning: The generator is mapping to some common output that \n",
    "        happens to fool the discriminator with an extremely high probability\n",
    "        - Very common\n",
    "        - Solution: add a small epsilon to the log losses (e.g. 1e-05) so \n",
    "        that regardless of how good/bad the quality of G(z) or D(x) are, \n",
    "        you're within a stabl region of the log function\n",
    "            - Note: Won't solve underlying issues, output will still be meaningless,\n",
    "            but at least NAN stops\n",
    "\n",
    "\"\"\""
   ]
  }
 ],
 "metadata": {
  "kernelspec": {
   "display_name": "Python 3",
   "language": "python",
   "name": "python3"
  },
  "language_info": {
   "codemirror_mode": {
    "name": "ipython",
    "version": 3
   },
   "file_extension": ".py",
   "mimetype": "text/x-python",
   "name": "python",
   "nbconvert_exporter": "python",
   "pygments_lexer": "ipython3",
   "version": "3.7.6"
  }
 },
 "nbformat": 4,
 "nbformat_minor": 2
}
